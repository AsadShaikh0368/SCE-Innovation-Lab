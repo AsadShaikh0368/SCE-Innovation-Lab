{
 "cells": [
  {
   "attachments": {},
   "cell_type": "markdown",
   "metadata": {},
   "source": [
    "### Object modelling\n",
    "Here’s a sample user story and reference object model as a starting point:\n",
    "\n",
    "<em>An auto company assembly line comprises of main line and sub line. The current Auto getting built as it moves in main or sub line comprises of many parts that are part of the assembly BOM (bill of material) for that auto. This BOM contains list of all the Parts that needs to be inputted to make up the Auto. As the car is getting assembled, the MES system keeps track (in real-time) of the Parts that are already Installed from the BOM. These installations happen on various Station within assembly line that perform various operations.  One station may or may not support multiple installation operations.............”\n",
    "</em>\n",
    "\n",
    "![sample_object_model.png](assets/images/sample_object_model.png)\n"
   ]
  },
  {
   "attachments": {},
   "cell_type": "markdown",
   "metadata": {},
   "source": [
    "#### Scenario\n",
    "Using the above reference point as an example, design an object model from the scenario below in <strong>_italics_</strong>\n",
    "\n",
    "On Dec 19th 2018, California Public utilities commission (__CPUC__) instituted Public Safety Power Shutoff (__PSPS__) order that allows utility companies to de-energize power lines in high risk / dangerous conditions that threatens life or property in California, with established PSPS guidelines for utility company to follow, which can be summarized as following user story:\n",
    "\n",
    "<em><strong>The PSPS initiative’s workflow is divided into three events: 1) Pre event 2) In event 3) Post event.</strong></em>\n",
    "\n",
    "<em><strong>Pre-event: A weather forecast and fire simulation ML engine triggers a “period of concern (__POC__)” on high risk “monitored circuit list (__MCL__)” and segments (note: segments are chunks within continuous circuits). This POC is approved through PSPS operations that triggers the notification process to notify, the notification event is approved by customer service (__CS__) team following which notification email are send two two different types of customers:</strong></em>\n",
    "\n",
    "<em><strong>The End user customers and LNO (Liaison Officer) customers. </strong></em>\n",
    "\n",
    "<em><strong>\n",
    "* The end user customers: as the name suggest, are affected end user customers (residential, commercial, etc) in that circuit. \n",
    "* The LNO customers: Are public service authorities like Sherriff’s office, Mayor’s office, hospitals, fire fighters, ambulances, etc.\n",
    "</strong></em>\n",
    "\n",
    "\n",
    "\n",
    "<strong>NOTE:\n",
    "* You NEED NOT use a paid software tool to design this model, even a scribble on a paper and scanned image upload would do\n",
    "* Key here us to provide a justification for distinction between what is an “object” and what is NOT an object, (like people, workflow, etc.) in your opinion.\n",
    "</strong>\n"
   ]
  }
 ],
 "metadata": {
  "kernelspec": {
   "display_name": ".venv",
   "language": "python",
   "name": "python3"
  },
  "language_info": {
   "name": "python",
   "version": "3.10.6"
  },
  "orig_nbformat": 4
 },
 "nbformat": 4,
 "nbformat_minor": 2
}
